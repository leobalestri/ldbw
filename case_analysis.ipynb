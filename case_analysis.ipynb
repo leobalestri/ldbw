{
 "cells": [
  {
   "cell_type": "code",
   "execution_count": 3,
   "metadata": {},
   "outputs": [],
   "source": [
    "# Module imports\n",
    "import os\n",
    "import pickle\n",
    "import re\n",
    "import string\n",
    "import pandas as pd\n",
    "import numpy as np\n",
    "import matplotlib.pyplot as plt"
   ]
  },
  {
   "cell_type": "code",
   "execution_count": 69,
   "metadata": {},
   "outputs": [],
   "source": [
    "\n",
    "\n",
    "class Case:\n",
    "    occurrence_dict = {}\n",
    "    # Note to self: These are class elements, so if you want to change them,\n",
    "    # you can change the whole class by setting Case.<element> = <value>\n",
    "    # and change individual cases with case.<element> = value\n",
    "    def __init__(self):\n",
    "        pass\n",
    "    def set_scanned_text_path(self, scanned_text_path):\n",
    "        self.scanned_text_path = scanned_text_path\n",
    "    def read_scanned_text(self):\n",
    "        assert os.path.isfile(self.scanned_text_path) == True\n",
    "        with open(self.scanned_text_path, \"r\") as file:\n",
    "            self.scanned_text = file.read()\n",
    "            self.appeals_case_number = os.path.splitext(os.path.split(self.scanned_text_path)[1])[0]\n",
    "            self.occurrence_df = pd.DataFrame(index=[self.appeals_case_number])\n",
    "    def set_clean_text_path(self, clean_text_path):\n",
    "        self.clean_text_path = clean_text_path\n",
    "    def read_clean_text(self):\n",
    "        assert os.path.isfile(self.clean_text_path) == True\n",
    "        with open(self.clean_text_path, \"r\") as file:\n",
    "            self.clean_text = file.read()\n",
    "            self.appeals_case_number = os.path.splitext(os.path.split(self.clean_text_path)[1])[0]\n",
    "            self.occurrence_df = pd.DataFrame(index=[self.appeals_case_number])\n",
    "    def make_clean_text(self):\n",
    "        text = self.scanned_text\n",
    "        text = text.lower()\n",
    "        # Strip all newlines:\n",
    "        text = re.sub('\\n', '', text)\n",
    "        # turn all whitespace into single spaces:\n",
    "        self.clean_text = re.sub(r'(\\s+)', ' ', text)\n",
    "    # TODO: either merge the text functions or have them check if casenum\n",
    "    # already exists?\n",
    "    def set_pdf_path(self, pdf_path):\n",
    "        assert os.path.isfile(pdf_path) == True, \\\n",
    "            \"pdf_path must lead to a file.\"\n",
    "        self.pdf_path = pdf_path\n",
    "    def set_save_path(self):\n",
    "        assert (self.appeals_case_number is not None), \\\n",
    "            \"Appeals case number must be set before object can be saved.\"\n",
    "        current_path = os.path.abspath('')\n",
    "        folder = os.path.join(current_path, 'case_objects')\n",
    "        save_path = os.path.join(folder,'%s.bin' % self.appeals_case_number)\n",
    "        self.save_path = save_path\n",
    "    def save(self):\n",
    "        with open(self.save_path, 'wb') as f:\n",
    "            pickle.dump(self, f)\n",
    "        # TODO: test read/write from binary\n",
    "\n",
    "# want a function that takes a dict {key:value}, searches for value,\n",
    "# if found: puts the result in column \"key\" in DataFrame\n",
    "# if not: puts ... None? False? 'Not found?'\n",
    "\n",
    "    def find(self, search_dictionary):\n",
    "    # search_dictionary should be of form {'category':'regex'}\n",
    "        assert (self.clean_text is not None), \\\n",
    "            'Cleaned text must be available to search.'\n",
    "        assert (len(search_dictionary) != 0), \\\n",
    "            'Size of dictionary is zero. Dictionary must have contents.'\n",
    "        text = self.clean_text\n",
    "        for key in search_dictionary:\n",
    "            found = re.findall(search_dictionary[key], text)\n",
    "            if len(found) != 0:\n",
    "                self.occurrence_df[key] = 1\n",
    "                self.occurrence_dict[key] = found\n",
    "            else:\n",
    "                self.occurrence_df[key] = 0\n",
    "                self.occurrence_dict[key] = 'Not found'\n"
   ]
  },
  {
   "cell_type": "markdown",
   "metadata": {},
   "source": [
    "As I'm writing this, I do have all of the refined corpuses that I want to use in one folder. "
   ]
  },
  {
   "cell_type": "code",
   "execution_count": 70,
   "metadata": {},
   "outputs": [],
   "source": [
    "corpus_folder = os.path.join(os.path.abspath(''),'refined_corpuses')\n",
    "cases = []\n",
    "for f in os.listdir(corpus_folder):\n",
    "    clean_text_path = os.path.join(corpus_folder, f)\n",
    "    case = Case()\n",
    "    case.set_clean_text_path(clean_text_path)\n",
    "    case.read_clean_text()\n",
    "    case.set_save_path()\n",
    "    case.save()\n",
    "    cases.append(case)"
   ]
  },
  {
   "cell_type": "code",
   "execution_count": 71,
   "metadata": {},
   "outputs": [
    {
     "data": {
      "text/plain": [
       "8474"
      ]
     },
     "execution_count": 71,
     "metadata": {},
     "output_type": "execute_result"
    }
   ],
   "source": [
    "# Checking that we got all the cases: should be 8474\n",
    "len(cases)\n"
   ]
  },
  {
   "cell_type": "code",
   "execution_count": 72,
   "metadata": {
    "scrolled": true
   },
   "outputs": [
    {
     "name": "stdout",
     "output_type": "stream",
     "text": [
      "B120629\n",
      "C:\\Users\\leodb\\Documents\\THESIS\\ldbw\\case_objects\\B120629.bin\n",
      "filed 4/10/13 p. v. downing ca2/5 not to be published in the official reports california rules of co\n",
      "B158266\n",
      "C:\\Users\\leodb\\Documents\\THESIS\\ldbw\\case_objects\\B158266.bin\n",
      " filed 6/16/15 p. v. pilola ca2/4 not to be published in the official reports california rules of co\n",
      "B197574\n",
      "C:\\Users\\leodb\\Documents\\THESIS\\ldbw\\case_objects\\B197574.bin\n",
      "filed 1/26/15 p. v. goodwin ca2/8 not to be published in the official reports california rules of co\n",
      "B211622\n",
      "C:\\Users\\leodb\\Documents\\THESIS\\ldbw\\case_objects\\B211622.bin\n",
      "filed 8/30/13 p. v. gutierrez ca2/1 not to be published in the official reports california rules of \n",
      "B213582\n",
      "C:\\Users\\leodb\\Documents\\THESIS\\ldbw\\case_objects\\B213582.bin\n",
      "filed 4/2/12 p. v. khrayan ca2/2 not to be published in the official reports california rules of cou\n",
      "B217909\n",
      "C:\\Users\\leodb\\Documents\\THESIS\\ldbw\\case_objects\\B217909.bin\n",
      " filed 9/27/12 p. v. alonzo ca2/3 not to be published in the official reports california rules of co\n",
      "B218637\n",
      "C:\\Users\\leodb\\Documents\\THESIS\\ldbw\\case_objects\\B218637.bin\n",
      "filed 7/23/12 in re sanchez ca2/7 not to be published in the official reports california rules of co\n",
      "B220072\n",
      "C:\\Users\\leodb\\Documents\\THESIS\\ldbw\\case_objects\\B220072.bin\n",
      " filed 6/19/12 p. v. alexander ca2/2 not to be published in the official reports california rules of\n",
      "B220664\n",
      "C:\\Users\\leodb\\Documents\\THESIS\\ldbw\\case_objects\\B220664.bin\n",
      "filed 2/28/12 p. v. romero ca2/1 not to be published in the official reports california rules of cou\n"
     ]
    }
   ],
   "source": [
    "# Checking that properties exist as expected: \n",
    "for c in cases[0:9]:\n",
    "    print(c.appeals_case_number) # should be str of form 'BXXXXXX'\n",
    "    print(c.save_path) # should be absolute path ending in casenum\n",
    "    print(c.clean_text[0:100]) # should be first 101 chars of text"
   ]
  },
  {
   "cell_type": "code",
   "execution_count": 73,
   "metadata": {},
   "outputs": [],
   "source": [
    "for c in cases[0:9]:\n",
    "    c.find(SEARCH_DICTIONARY)"
   ]
  },
  {
   "cell_type": "code",
   "execution_count": null,
   "metadata": {},
   "outputs": [],
   "source": [
    "SEARCH_DICTIONARY = {\n",
    "    'search_attorney': r'(\\. .{3,100}? for defendants?)',\n",
    "    'search_appointed': r'under appointment',\n",
    "    'search_outcome': r'\\. judgment .{3,100}?\\.',\n",
    "    'pitchess_motion': r'pitchess .{0,5}?motion',\n",
    "    'prejudice':'unduly prejudicial',\n",
    "    'no_error':'no error',\n",
    "    'mid_term': r'mid(dle)?[ -]?term',\n",
    "    'disposition': r'diposition .{0:100}?\\.',\n",
    "    'prior_conviction': r'prior .{3,20}conviction',\n",
    "    'prior_felony_conviction': r'prior felony convictions?',\n",
    "    'ineffective_assistance': r'ineffective assistance',\n",
    "    'habeas_corpus': r'habeas corpus',\n",
    "    'prosecutorial_misconduct': r'(prosecutor|prosecutorial) misconduct',\n",
    "    'polygraph': 'polygraph',\n",
    "    'kamala_harris': r'kamala .{0,10}?harris',\n",
    "    'constitutional_violation': r'constitutional violation',\n",
    "    }\n"
   ]
  },
  {
   "cell_type": "code",
   "execution_count": 76,
   "metadata": {},
   "outputs": [],
   "source": [
    "test_string = ' three strikes and you\\'re out, 3-strike policy, three-strikes left right' "
   ]
  },
  {
   "cell_type": "code",
   "execution_count": 92,
   "metadata": {},
   "outputs": [],
   "source": [
    "reg = r'(three|3)(\\s|-)strikes?'"
   ]
  },
  {
   "cell_type": "code",
   "execution_count": 93,
   "metadata": {},
   "outputs": [
    {
     "data": {
      "text/plain": [
       "[('three', ' '), ('3', '-'), ('three', '-')]"
      ]
     },
     "execution_count": 93,
     "metadata": {},
     "output_type": "execute_result"
    }
   ],
   "source": [
    "re.findall(reg, test_string)"
   ]
  },
  {
   "cell_type": "code",
   "execution_count": null,
   "metadata": {},
   "outputs": [],
   "source": []
  }
 ],
 "metadata": {
  "kernelspec": {
   "display_name": "Python 3",
   "language": "python",
   "name": "python3"
  },
  "language_info": {
   "codemirror_mode": {
    "name": "ipython",
    "version": 3
   },
   "file_extension": ".py",
   "mimetype": "text/x-python",
   "name": "python",
   "nbconvert_exporter": "python",
   "pygments_lexer": "ipython3",
   "version": "3.7.6"
  }
 },
 "nbformat": 4,
 "nbformat_minor": 2
}
